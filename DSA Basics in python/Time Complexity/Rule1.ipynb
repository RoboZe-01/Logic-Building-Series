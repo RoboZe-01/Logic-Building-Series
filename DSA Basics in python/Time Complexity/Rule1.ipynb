{
 "cells": [
  {
   "cell_type": "markdown",
   "id": "48ee1a2c",
   "metadata": {},
   "source": [
    "# Always calculate TC in terms of worst case\n",
    "\n",
    "Idea is If i can handle in the worst case scenario then your code is effiecient "
   ]
  },
  {
   "cell_type": "markdown",
   "id": "983e740f",
   "metadata": {},
   "source": [
    "## Cases - \n",
    "1. Best case\n",
    "2. Avg case\n",
    "3. Worst case ( We choose this to calculate Tc)"
   ]
  },
  {
   "cell_type": "code",
   "execution_count": 1,
   "id": "7ccc2841",
   "metadata": {},
   "outputs": [],
   "source": [
    "def cal_age_category(age):\n",
    "    if age >=80:\n",
    "        print(\"Elder citizen\")\n",
    "    elif age >=60 and age <80 :\n",
    "        print(\"senior\")\n",
    "    elif age >=24 and age <60 :\n",
    "        print(\"Working\")\n",
    "    else :\n",
    "        print(\"baby\")\n",
    "        \n"
   ]
  },
  {
   "cell_type": "markdown",
   "id": "0674e8d4",
   "metadata": {},
   "source": [
    "## Best case : age = 90 \n",
    "\n",
    "Here the only first condition is checked and rest are unchecked \n",
    "\n",
    "so time complexity will be less"
   ]
  },
  {
   "cell_type": "code",
   "execution_count": 2,
   "id": "68c2cd4e",
   "metadata": {},
   "outputs": [
    {
     "name": "stdout",
     "output_type": "stream",
     "text": [
      "Elder citizen\n"
     ]
    }
   ],
   "source": [
    "cal_age_category(90)"
   ]
  },
  {
   "cell_type": "markdown",
   "id": "0e4d5b7d",
   "metadata": {},
   "source": [
    "## Worst Case : Age = 8\n",
    "\n",
    "Here the 'Programm' need to run through every part then it will work \n",
    "\n",
    "thus this is the worst case scenario"
   ]
  },
  {
   "cell_type": "code",
   "execution_count": 3,
   "id": "70ed98a7",
   "metadata": {},
   "outputs": [
    {
     "name": "stdout",
     "output_type": "stream",
     "text": [
      "baby\n"
     ]
    }
   ],
   "source": [
    "cal_age_category(8)"
   ]
  }
 ],
 "metadata": {
  "kernelspec": {
   "display_name": "Python 3",
   "language": "python",
   "name": "python3"
  },
  "language_info": {
   "codemirror_mode": {
    "name": "ipython",
    "version": 3
   },
   "file_extension": ".py",
   "mimetype": "text/x-python",
   "name": "python",
   "nbconvert_exporter": "python",
   "pygments_lexer": "ipython3",
   "version": "3.11.9"
  }
 },
 "nbformat": 4,
 "nbformat_minor": 5
}

{
 "cells": [
  {
   "cell_type": "markdown",
   "id": "1824dc3f",
   "metadata": {},
   "source": [
    "# Avoid constant values \n",
    "# Avoid lower values"
   ]
  },
  {
   "cell_type": "markdown",
   "id": "eae1cf80",
   "metadata": {},
   "source": [
    "TC - o(8n^6 + 3n^2 +15)\n",
    "\n",
    "\n",
    "bohot hi bade input ke liye ye constant mattern nhi krta \n",
    "\n",
    "so uske nikal dete hai \n",
    "\n",
    "tc-1 = O(8n^6 + 3n^2 )"
   ]
  },
  {
   "cell_type": "markdown",
   "id": "9b81ab8f",
   "metadata": {},
   "source": [
    "## Avoid lower value \n",
    "\n",
    "we only take the n with higher power as the lower values of n dont make much of for worst case\n",
    "\n",
    "so , tc-2 : O(n^6)"
   ]
  }
 ],
 "metadata": {
  "language_info": {
   "name": "python"
  }
 },
 "nbformat": 4,
 "nbformat_minor": 5
}

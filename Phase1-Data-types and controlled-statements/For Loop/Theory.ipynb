{
 "cells": [
  {
   "cell_type": "markdown",
   "id": "3d7bfb03",
   "metadata": {},
   "source": [
    "# For Loop "
   ]
  },
  {
   "cell_type": "code",
   "execution_count": null,
   "id": "8b2bdacf",
   "metadata": {},
   "outputs": [],
   "source": []
  },
  {
   "cell_type": "markdown",
   "id": "7855baa7",
   "metadata": {},
   "source": [
    "## range() with for loop \n",
    "**Syntax** : range(start,stop, step)    \n",
    "\n",
    "*By default* : \n",
    "- start from 0 index \n",
    "- End At the end of elements\n",
    "- step is one\n",
    "\n"
   ]
  },
  {
   "cell_type": "code",
   "execution_count": 1,
   "id": "abaac17d",
   "metadata": {},
   "outputs": [
    {
     "name": "stdout",
     "output_type": "stream",
     "text": [
      "2\n",
      "5\n",
      "8\n",
      "11\n"
     ]
    }
   ],
   "source": [
    "for i in range(2,12,3):\n",
    "    print(i)"
   ]
  },
  {
   "cell_type": "markdown",
   "id": "28155795",
   "metadata": {},
   "source": [
    "## Common loop patterns "
   ]
  },
  {
   "cell_type": "markdown",
   "id": "c4dc2f01",
   "metadata": {},
   "source": [
    "### Loop through list \n"
   ]
  },
  {
   "cell_type": "code",
   "execution_count": 3,
   "id": "3e439644",
   "metadata": {},
   "outputs": [
    {
     "name": "stdout",
     "output_type": "stream",
     "text": [
      "APPLE\n",
      "BANANA\n",
      "MANGO\n"
     ]
    }
   ],
   "source": [
    "# Initialisation the list\n",
    "\n",
    "fruits = ['apple','banana','mango']\n",
    "for fruit in fruits :\n",
    "    print(fruit.upper())"
   ]
  }
 ],
 "metadata": {
  "kernelspec": {
   "display_name": "Python 3",
   "language": "python",
   "name": "python3"
  },
  "language_info": {
   "codemirror_mode": {
    "name": "ipython",
    "version": 3
   },
   "file_extension": ".py",
   "mimetype": "text/x-python",
   "name": "python",
   "nbconvert_exporter": "python",
   "pygments_lexer": "ipython3",
   "version": "3.11.9"
  }
 },
 "nbformat": 4,
 "nbformat_minor": 5
}
